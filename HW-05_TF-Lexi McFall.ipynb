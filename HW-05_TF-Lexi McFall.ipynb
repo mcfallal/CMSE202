{
 "cells": [
  {
   "cell_type": "markdown",
   "metadata": {},
   "source": [
    "### <p style=\"text-align: right;\"> &#9989; Lexi McFall</p>"
   ]
  },
  {
   "cell_type": "markdown",
   "metadata": {},
   "source": [
    "# CMSE Homework 05\n",
    "\n",
    "## Using Tensorflow/Keras for classification\n",
    "\n",
    "\n",
    "### Assignment instructions\n",
    "\n",
    "Work through the following assignment, making sure to follow all of the directions and answer all of the questions.\n",
    "\n",
    "There are 25 points possible on this assignment. Point values for each part are included in the section headers.\n",
    "\n",
    "This assignment is due roughly two weeks from now at 11:59 pm on **Friday Dec. 4th**. It should be uploaded into the \"Homework Assignments\" submission folder for Homework #5 in your D2L webpage. Submission instructions can be found at the end of the notebook.\n",
    "\n",
    "**Hint**: It is possible you are asked to do something you are not familiar with. That's why you have internet access. Do some smart searches and see what you can find! \n",
    "\n",
    "### Goals for this homework assignment\n",
    "\n",
    "The goal for this assignment is for you to learn about neural network implemented by __Tensorflow__ and __Keras__ to do some basic classification tasks. Unless you already have experience with Tensorflow or Keras or similar libraries, you will not understand everything about this right away. You probably haven't even installed Tensorflow yet. Don't worry, that is perfectly fine. We will walk through one example in detail. So don't worry if some steps seem arbitrary or look like magic to you! We've got to start somewhere.\n",
    "\n",
    "[Tensorflow](https://www.tensorflow.org/) is a free and open-source software library for machine learning. It is one of the most popular software package for training and inference of deep neural networks. [Keras](https://keras.io/) is the high-level API of TensorFlow 2.0. \n",
    "\n",
    "\n",
    "To get started, you need to set up the required software. You can follow the detailed instruction from the [installation guide of Tensorflow](https://www.tensorflow.org/install) which also includes Keras. In most cases, you can simply type\n",
    "\n",
    "`pip install --upgrade tensorflow`\n",
    "\n",
    "Now you are ready for action!\n",
    "\n",
    "__Note__ Following the installation guide, you should have installed Tensorflow V2.3.1, and   Numpy should be downgraded to V1.18.5. If you have trouble with installation or you run into issues with dead kernels, please check the versions of the packages installed and asked for help during help hours!\n",
    "\n",
    "Below is the import for this assignement."
   ]
  },
  {
   "cell_type": "code",
   "execution_count": 36,
   "metadata": {},
   "outputs": [],
   "source": [
    "## Our import\n",
    "import tensorflow as tf\n",
    "from tensorflow.keras.datasets import fashion_mnist\n",
    "from tensorflow.keras.datasets import mnist\n",
    "from tensorflow.keras.models import Sequential\n",
    "from tensorflow.keras.layers import Dense\n",
    "from tensorflow.keras.utils import to_categorical\n",
    "\n",
    "import numpy as np\n",
    "import pandas as pd\n",
    "import matplotlib.pyplot as plt\n",
    "%matplotlib inline\n"
   ]
  },
  {
   "cell_type": "markdown",
   "metadata": {},
   "source": [
    "---\n",
    "## Part 1. Adding notebook to your turn-in repository\n",
    "\n",
    "Like you did for Homework 3, you're going to add it to the CMSE202 repository you created in class so that you can track your progress on the assignment and preserve the final version that you turn in. In order to do this you need to:\n",
    "\n",
    "* Navigate to your /CMSE202/repos repository and create a new directory called hw-05.\n",
    "* Move this notebook into that new directory in your repository, then add it and commit it to your repository.\n",
    "   * Finally, to test that everything is working, \"git push\" the file so that it ends up in your GitHub repository.\n",
    "\n",
    "Important: Make sure you've added your TA as a collaborators to your respository with \"Read\" access so that we can see your assignment. (*If you did this for Homework 3, you do not need to do it again*)\n",
    "\n",
    "* Section 001: tuethan\n",
    "* Section 002: Luis-Polanco\n",
    "* Section 003: DavidRimel\n",
    "\n",
    "Also important: Make sure that the version of this notebook that you are working on is the same one that you just added to your repository! If you are working on a different copy of the notebook, none of your changes will be tracked.\n",
    "\n",
    "If everything went as intended, the file should now show up on your GitHub account CMSE202 repository under the hw-04 directory that you just created. Periodically, you'll be asked to commit your changes to the repository and push them to the remote GitHub location. Of course, you can always commit your changes more often than that, if you wish. It can be good to get into a habit of committing your changes any time you make a significant modification, or when you stop working on the project for a bit."
   ]
  },
  {
   "cell_type": "markdown",
   "metadata": {},
   "source": [
    "## Part 2: Classifying MNIST data (6 points)\n",
    "\n",
    "\n",
    "We will now walk through a concrete example of a neural network, which makes use of  Keras to learn to classify hand-written digits.\n",
    "\n",
    "The problem we are trying to solve here is to classify grayscale images of handwritten digits (28 pixels by 28 pixels), into their 10 \n",
    "categories (0 to 9). The dataset we will use is the MNIST dataset, a classic dataset in the machine learning community, which has been \n",
    "around for almost as long as the field itself and has been very intensively studied. It's a set of 60,000 training images, plus 10,000 test \n",
    "images, assembled by the National Institute of Standards and Technology (the NIST in MNIST) in the 1980s. You can think of \"solving\" MNIST \n",
    "as the \"Hello World\" of deep learning -- it's what you do to verify that your algorithms are working as expected. As you become a machine \n",
    "learning practitioner, you will see MNIST come up over and over again, in scientific papers, blog posts, and so on.\n",
    "\n",
    "The MNIST dataset comes pre-loaded in Keras, in the form of a set of four Numpy arrays:\n",
    "\n"
   ]
  },
  {
   "cell_type": "code",
   "execution_count": 37,
   "metadata": {},
   "outputs": [],
   "source": [
    "(train_images, train_labels), (test_images, test_labels)=mnist.load_data()"
   ]
  },
  {
   "cell_type": "markdown",
   "metadata": {},
   "source": [
    "`train_images` and `train_labels` form the \"training set\", the data that the model will learn from. The model will then be tested on the \n",
    "\"test set\", `test_images` and `test_labels`. Our images are encoded as Numpy arrays, and the labels are simply an array of digits, ranging \n",
    "from 0 to 9. There is a one-to-one correspondence between the images and the labels.\n",
    "\n",
    "Let's have a look at the training data:"
   ]
  },
  {
   "cell_type": "code",
   "execution_count": 38,
   "metadata": {},
   "outputs": [
    {
     "data": {
      "text/plain": [
       "(60000, 28, 28)"
      ]
     },
     "execution_count": 38,
     "metadata": {},
     "output_type": "execute_result"
    }
   ],
   "source": [
    "train_images.shape\n"
   ]
  },
  {
   "cell_type": "code",
   "execution_count": 39,
   "metadata": {
    "scrolled": true
   },
   "outputs": [
    {
     "data": {
      "text/plain": [
       "60000"
      ]
     },
     "execution_count": 39,
     "metadata": {},
     "output_type": "execute_result"
    }
   ],
   "source": [
    "len(train_labels)"
   ]
  },
  {
   "cell_type": "code",
   "execution_count": 40,
   "metadata": {},
   "outputs": [
    {
     "data": {
      "text/plain": [
       "array([5, 0, 4, ..., 5, 6, 8], dtype=uint8)"
      ]
     },
     "execution_count": 40,
     "metadata": {},
     "output_type": "execute_result"
    }
   ],
   "source": [
    "train_labels"
   ]
  },
  {
   "cell_type": "markdown",
   "metadata": {},
   "source": [
    "Let's have a look at the test data:"
   ]
  },
  {
   "cell_type": "code",
   "execution_count": 41,
   "metadata": {},
   "outputs": [
    {
     "data": {
      "text/plain": [
       "(10000, 28, 28)"
      ]
     },
     "execution_count": 41,
     "metadata": {},
     "output_type": "execute_result"
    }
   ],
   "source": [
    "test_images.shape"
   ]
  },
  {
   "cell_type": "code",
   "execution_count": 42,
   "metadata": {},
   "outputs": [
    {
     "data": {
      "text/plain": [
       "10000"
      ]
     },
     "execution_count": 42,
     "metadata": {},
     "output_type": "execute_result"
    }
   ],
   "source": [
    "len(test_labels)"
   ]
  },
  {
   "cell_type": "code",
   "execution_count": 43,
   "metadata": {},
   "outputs": [
    {
     "data": {
      "text/plain": [
       "array([7, 2, 1, ..., 4, 5, 6], dtype=uint8)"
      ]
     },
     "execution_count": 43,
     "metadata": {},
     "output_type": "execute_result"
    }
   ],
   "source": [
    "test_labels"
   ]
  },
  {
   "cell_type": "markdown",
   "metadata": {},
   "source": [
    "**Question 2.1 (1 points)** What is the size of the training and testing dataset for MNIST, respectively?"
   ]
  },
  {
   "cell_type": "markdown",
   "metadata": {},
   "source": [
    "<font size=8 color=\"#009600\">&#9998;</font> The train data set is (60000, 28, 28) and the testing data set is (10000, 28, 28)."
   ]
  },
  {
   "cell_type": "markdown",
   "metadata": {},
   "source": [
    "**Question 2.2 (2 points)** Make a histogram for the training label. Is this dataset balanced?"
   ]
  },
  {
   "cell_type": "code",
   "execution_count": 44,
   "metadata": {},
   "outputs": [
    {
     "name": "stdout",
     "output_type": "stream",
     "text": [
      "The datset is pretty balanced\n"
     ]
    },
    {
     "data": {
      "image/png": "[encoded data removed]",
      "text/plain": [
       "<Figure size 432x288 with 1 Axes>"
      ]
     },
     "metadata": {
      "needs_background": "light"
     },
     "output_type": "display_data"
    }
   ],
   "source": [
    "# Making a histogram of the training label\n",
    "plt.hist(train_labels)\n",
    "print(\"The datset is pretty balanced\")"
   ]
  },
  {
   "cell_type": "markdown",
   "metadata": {},
   "source": [
    "We can also take a look at the individual images."
   ]
  },
  {
   "cell_type": "code",
   "execution_count": 45,
   "metadata": {},
   "outputs": [
    {
     "data": {
      "text/plain": [
       "1"
      ]
     },
     "execution_count": 45,
     "metadata": {},
     "output_type": "execute_result"
    },
    {
     "data": {
      "image/png": "[encoded data removed]",
      "text/plain": [
       "<Figure size 432x288 with 1 Axes>"
      ]
     },
     "metadata": {
      "needs_background": "light"
     },
     "output_type": "display_data"
    }
   ],
   "source": [
    "digit = train_images[6]\n",
    "plt.imshow(digit, cmap=plt.cm.binary)\n",
    "train_labels[6]"
   ]
  },
  {
   "cell_type": "markdown",
   "metadata": {},
   "source": [
    "\n",
    "Before training, we will preprocess our data by reshaping it into the shape that the network expects, and scaling it so that all values are in \n",
    "the `[0, 1]` interval. Previously, our training images for instance were stored in an array of shape `(60000, 28, 28)` of type `uint8` with \n",
    "values in the `[0, 255]` interval. We transform it into a `float32` array of shape `(60000, 28 * 28)` with values between 0 and 1."
   ]
  },
  {
   "cell_type": "code",
   "execution_count": 46,
   "metadata": {},
   "outputs": [],
   "source": [
    "train_images = train_images.reshape(train_images.shape[0],-1)/255.0\n",
    "test_images = test_images.reshape(test_images.shape[0],-1)/255.0"
   ]
  },
  {
   "cell_type": "markdown",
   "metadata": {},
   "source": [
    "We also need to categorically encode the labels."
   ]
  },
  {
   "cell_type": "code",
   "execution_count": 47,
   "metadata": {},
   "outputs": [],
   "source": [
    "train_labels = to_categorical(train_labels)\n",
    "test_labels = to_categorical(test_labels)"
   ]
  },
  {
   "cell_type": "markdown",
   "metadata": {},
   "source": [
    "Let’s start our neural network models.\n",
    "\n",
    "\n",
    "\n",
    "<img src=\"https://miro.medium.com/max/1400/1*K0D3JOZJUTxX4Q-9CpiALw.jpeg\" width= 800><p style=\"text-align: right;\">\n",
    "\n"
   ]
  },
  {
   "cell_type": "markdown",
   "metadata": {},
   "source": [
    "Our workflow will be as follow: first we will present our neural network with the training data, `train_images` and `train_labels`. The \n",
    "network will then learn to associate images and labels. Finally, we will ask the network to produce predictions for `test_images`, and we \n",
    "will verify if these predictions match the labels from `test_labels`.\n",
    "\n",
    "Let's build our network.\n",
    "\n"
   ]
  },
  {
   "cell_type": "code",
   "execution_count": 48,
   "metadata": {},
   "outputs": [],
   "source": [
    "network = Sequential()\n",
    "network.add(Dense(10, input_dim=784, activation='relu'))\n",
    "network.add(Dense(10, activation='softmax'))\n",
    "network.compile(optimizer='rmsprop',\n",
    "                loss='categorical_crossentropy',\n",
    "                metrics=['accuracy'])"
   ]
  },
  {
   "cell_type": "markdown",
   "metadata": {},
   "source": [
    "The Sequential model is the easiest model Keras has. The first line of `model.add` method is adding your hidden layer with 10 cells, coming from 784 input cells.\n",
    "\n",
    "The second add method is adding your output layer to the network. This has 10 cells.\n",
    "\n",
    "The Relu and Softmax activation options are non-linear. Being able to use non-linear data makes Neural Network particularly useful. Generally, neural networks can map any data distribution at any level of complexity.\n",
    "You don’t have to know what Relu and Softmax are.  You just need to follow these tips:\n",
    "1. Use Relu whenever possible, on every hidden layer.\n",
    "2. Use Softmax on output layers with more than two categories to be predicted.\n",
    "3. Use Sigmoid on an output layer with two categories.\n",
    "\n",
    "After creating your model, call `compile` method to finish your model. It usually takes three parameters. Always use `categorical_crossentropy` for multi-categories, and `binary_crossentropy` for two categories. Use `adam` or `rmsprop` as the optimizer since both of them are pretty good. And you need accuracy as the `metric` to check your network performance."
   ]
  },
  {
   "cell_type": "markdown",
   "metadata": {},
   "source": [
    "We are now ready to train our network, which in Keras is done via a call to the `fit` method of the network: \n",
    "we \"fit\" the model to its training data.  We will use 10% of the training data as the validation data, hence validation_split was set to 0.1."
   ]
  },
  {
   "cell_type": "code",
   "execution_count": 49,
   "metadata": {},
   "outputs": [
    {
     "name": "stdout",
     "output_type": "stream",
     "text": [
      "Epoch 1/20\n",
      "1688/1688 [==============================] - 2s 1ms/step - loss: 0.5704 - accuracy: 0.8390 - val_loss: 0.2780 - val_accuracy: 0.9260\n",
      "Epoch 2/20\n",
      "1688/1688 [==============================] - 2s 929us/step - loss: 0.3222 - accuracy: 0.9093 - val_loss: 0.2414 - val_accuracy: 0.9340\n",
      "Epoch 3/20\n",
      "1688/1688 [==============================] - 2s 921us/step - loss: 0.2908 - accuracy: 0.9184 - val_loss: 0.2276 - val_accuracy: 0.9375\n",
      "Epoch 4/20\n",
      "1688/1688 [==============================] - 2s 959us/step - loss: 0.2714 - accuracy: 0.9246 - val_loss: 0.2158 - val_accuracy: 0.9412\n",
      "Epoch 5/20\n",
      "1688/1688 [==============================] - 2s 948us/step - loss: 0.2558 - accuracy: 0.9299 - val_loss: 0.2004 - val_accuracy: 0.9425\n",
      "Epoch 6/20\n",
      "1688/1688 [==============================] - 2s 931us/step - loss: 0.2424 - accuracy: 0.9328 - val_loss: 0.1970 - val_accuracy: 0.9440\n",
      "Epoch 7/20\n",
      "1688/1688 [==============================] - 2s 948us/step - loss: 0.2318 - accuracy: 0.9347 - val_loss: 0.1893 - val_accuracy: 0.9467\n",
      "Epoch 8/20\n",
      "1688/1688 [==============================] - 2s 946us/step - loss: 0.2216 - accuracy: 0.9378 - val_loss: 0.1895 - val_accuracy: 0.9482\n",
      "Epoch 9/20\n",
      "1688/1688 [==============================] - 2s 954us/step - loss: 0.2128 - accuracy: 0.9399 - val_loss: 0.1890 - val_accuracy: 0.9468\n",
      "Epoch 10/20\n",
      "1688/1688 [==============================] - 2s 917us/step - loss: 0.2058 - accuracy: 0.9416 - val_loss: 0.1771 - val_accuracy: 0.9517\n",
      "Epoch 11/20\n",
      "1688/1688 [==============================] - 2s 916us/step - loss: 0.2016 - accuracy: 0.9434 - val_loss: 0.1742 - val_accuracy: 0.9513\n",
      "Epoch 12/20\n",
      "1688/1688 [==============================] - 2s 913us/step - loss: 0.1971 - accuracy: 0.9445 - val_loss: 0.1761 - val_accuracy: 0.9500\n",
      "Epoch 13/20\n",
      "1688/1688 [==============================] - 2s 928us/step - loss: 0.1941 - accuracy: 0.9454 - val_loss: 0.1763 - val_accuracy: 0.9498\n",
      "Epoch 14/20\n",
      "1688/1688 [==============================] - 2s 923us/step - loss: 0.1922 - accuracy: 0.9466 - val_loss: 0.1778 - val_accuracy: 0.9517\n",
      "Epoch 15/20\n",
      "1688/1688 [==============================] - 2s 953us/step - loss: 0.1905 - accuracy: 0.9469 - val_loss: 0.1734 - val_accuracy: 0.9513\n",
      "Epoch 16/20\n",
      "1688/1688 [==============================] - 2s 931us/step - loss: 0.1885 - accuracy: 0.9476 - val_loss: 0.1725 - val_accuracy: 0.9522\n",
      "Epoch 17/20\n",
      "1688/1688 [==============================] - 2s 983us/step - loss: 0.1869 - accuracy: 0.9485 - val_loss: 0.1732 - val_accuracy: 0.9503\n",
      "Epoch 18/20\n",
      "1688/1688 [==============================] - 2s 931us/step - loss: 0.1853 - accuracy: 0.9492 - val_loss: 0.1738 - val_accuracy: 0.9507\n",
      "Epoch 19/20\n",
      "1688/1688 [==============================] - 2s 944us/step - loss: 0.1845 - accuracy: 0.9497 - val_loss: 0.1753 - val_accuracy: 0.9505\n",
      "Epoch 20/20\n",
      "1688/1688 [==============================] - 2s 965us/step - loss: 0.1837 - accuracy: 0.9499 - val_loss: 0.1734 - val_accuracy: 0.9513\n"
     ]
    }
   ],
   "source": [
    "history=network.fit(train_images, train_labels, epochs=20,  validation_split=0.1)"
   ]
  },
  {
   "cell_type": "markdown",
   "metadata": {},
   "source": [
    "Four quantities are being displayed during training: the \"loss\" of the network over the training and validation data, and the accuracy of the network over \n",
    "the training and validation data.\n",
    "\n",
    "`epoch` is the number of training loops we will do. One epoch will expose all of our training data once to the network. More epochs means the network will know better about our data.\n",
    "\n",
    "We can plot a history of training and validation loss and accuracy."
   ]
  },
  {
   "cell_type": "code",
   "execution_count": 50,
   "metadata": {},
   "outputs": [
    {
     "data": {
      "image/png": "[encoded data removed]",
      "text/plain": [
       "<Figure size 432x288 with 1 Axes>"
      ]
     },
     "metadata": {
      "needs_background": "light"
     },
     "output_type": "display_data"
    },
    {
     "data": {
      "image/png": "[encoded data removed]",
      "text/plain": [
       "<Figure size 432x288 with 1 Axes>"
      ]
     },
     "metadata": {
      "needs_background": "light"
     },
     "output_type": "display_data"
    }
   ],
   "source": [
    "plt.clf()   # clear figure\n",
    "\n",
    "loss = history.history['loss']\n",
    "val_loss = history.history['val_loss']\n",
    "\n",
    "epochs = range(1, len(loss) + 1)\n",
    "\n",
    "plt.plot(epochs, loss, 'bo', label='Training loss')\n",
    "plt.plot(epochs, val_loss, 'b', label='Validation loss')\n",
    "plt.title('Training and validation loss')\n",
    "plt.xlabel('Epochs')\n",
    "plt.ylabel('Loss')\n",
    "plt.legend()\n",
    "\n",
    "plt.show()\n",
    "\n",
    "acc = history.history['accuracy']\n",
    "val_acc = history.history['val_accuracy']\n",
    "epochs=range(1, len(acc)+1)\n",
    "\n",
    "plt.plot(epochs, acc, 'bo', label='Training acc')\n",
    "plt.plot(epochs, val_acc, 'b', label='Validation acc')\n",
    "plt.title('Training and validation accuracy')\n",
    "plt.xlabel('Epochs')\n",
    "plt.ylabel('Accuracy')\n",
    "plt.legend()\n",
    "\n",
    "plt.show()"
   ]
  },
  {
   "cell_type": "markdown",
   "metadata": {},
   "source": [
    "\n",
    "The dots are the training loss and accuracy, while the solid lines are the validation loss and accuracy. *Note that your own results may vary \n",
    "slightly due to a different random initialization of your network.*\n",
    "\n",
    "As you can see, the training loss decreases with every epoch and the training accuracy increases with every epoch. That's what you would \n",
    "expect when running gradient descent optimization -- the quantity you are trying to minimize should get lower with every iteration. But that \n",
    "isn't the case for the validation loss and accuracy: they seem to peak at the eleventh epoch.  What you are seeing is **overfitting**: after the 11th epoch, we are over-optimizing on the training data, and we \n",
    "ended up learning representations that are specific to the training data and do not generalize to data outside of the training set.\n",
    "\n",
    "In this case, to prevent overfitting, we could simply stop training after 10 epochs.\n",
    "\n",
    "**Question 2.3 (2 points)**  Let's train a new network from scratch for 10 epochs. "
   ]
  },
  {
   "cell_type": "code",
   "execution_count": 51,
   "metadata": {},
   "outputs": [
    {
     "name": "stdout",
     "output_type": "stream",
     "text": [
      "Epoch 1/10\n",
      "1688/1688 [==============================] - 3s 2ms/step - loss: 0.5988 - accuracy: 0.8245 - val_loss: 0.2872 - val_accuracy: 0.9187\n",
      "Epoch 2/10\n",
      "1688/1688 [==============================] - 1s 799us/step - loss: 0.3232 - accuracy: 0.9081 - val_loss: 0.2503 - val_accuracy: 0.9305\n",
      "Epoch 3/10\n",
      "1688/1688 [==============================] - 1s 796us/step - loss: 0.2947 - accuracy: 0.9164 - val_loss: 0.2339 - val_accuracy: 0.9343\n",
      "Epoch 4/10\n",
      "1688/1688 [==============================] - 1s 795us/step - loss: 0.2808 - accuracy: 0.9203 - val_loss: 0.2247 - val_accuracy: 0.9390\n",
      "Epoch 5/10\n",
      "1688/1688 [==============================] - 1s 802us/step - loss: 0.2720 - accuracy: 0.9237 - val_loss: 0.2184 - val_accuracy: 0.9372\n",
      "Epoch 6/10\n",
      "1688/1688 [==============================] - 2s 924us/step - loss: 0.2660 - accuracy: 0.9253 - val_loss: 0.2275 - val_accuracy: 0.9360\n",
      "Epoch 7/10\n",
      "1688/1688 [==============================] - 2s 948us/step - loss: 0.2596 - accuracy: 0.9273 - val_loss: 0.2130 - val_accuracy: 0.9397\n",
      "Epoch 8/10\n",
      "1688/1688 [==============================] - 2s 938us/step - loss: 0.2553 - accuracy: 0.9282 - val_loss: 0.2106 - val_accuracy: 0.9418\n",
      "Epoch 9/10\n",
      "1688/1688 [==============================] - 2s 948us/step - loss: 0.2505 - accuracy: 0.9305 - val_loss: 0.2069 - val_accuracy: 0.9427\n",
      "Epoch 10/10\n",
      "1688/1688 [==============================] - 1s 854us/step - loss: 0.2473 - accuracy: 0.9314 - val_loss: 0.2064 - val_accuracy: 0.9423\n"
     ]
    }
   ],
   "source": [
    "# training a new network from scratch\n",
    "network = Sequential()\n",
    "network.add(Dense(10, input_dim=784, activation='relu'))\n",
    "network.add(Dense(10, activation='softmax'))\n",
    "network.compile(optimizer='rmsprop',\n",
    "                loss='categorical_crossentropy',\n",
    "                metrics=['accuracy'])\n",
    "history=network.fit(train_images, train_labels, epochs=10,  validation_split=0.1)"
   ]
  },
  {
   "cell_type": "markdown",
   "metadata": {},
   "source": [
    "We can now evaluate the result on our test data."
   ]
  },
  {
   "cell_type": "code",
   "execution_count": 52,
   "metadata": {},
   "outputs": [
    {
     "name": "stdout",
     "output_type": "stream",
     "text": [
      "313/313 [==============================] - 0s 814us/step - loss: 0.2595 - accuracy: 0.9326\n",
      "test_acc: 0.9326000213623047\n"
     ]
    }
   ],
   "source": [
    "test_loss, test_acc = network.evaluate(test_images, test_labels)\n",
    "print('test_acc:', test_acc)"
   ]
  },
  {
   "cell_type": "markdown",
   "metadata": {},
   "source": [
    "**Question 2.4 (1 points)**  Run the code above. What is the testing accuracy?"
   ]
  },
  {
   "cell_type": "markdown",
   "metadata": {},
   "source": [
    "<font size=8 color=\"#009600\">&#9998;</font> The testing accuracy is 0.9326 ."
   ]
  },
  {
   "cell_type": "markdown",
   "metadata": {},
   "source": [
    "\n",
    "This concludes our very first example -- you just saw how we could build and a train a neural network to classify handwritten digits, in \n",
    "less than 20 lines of Python code!"
   ]
  },
  {
   "cell_type": "markdown",
   "metadata": {},
   "source": [
    "## Part 3: Classifying Fashion-MNIST data (19 points)\n",
    "\n",
    "\n",
    "We will now work on another dataset called fashion MNIST. Fashion MNIST is a dataset of ten categories of clothing and accessories, in grayscales. \n",
    "\n",
    "\n",
    "<img src=\"https://miro.medium.com/max/1400/1*9yRVzjQpH7LW8QWGbKFKww.png\" width= 800><p style=\"text-align: right;\">"
   ]
  },
  {
   "cell_type": "markdown",
   "metadata": {},
   "source": [
    "**Question 3.1 (2 points)**   Load the Fashion-MNIST dataset. *Hint: Keras has this dataset preloaded. Look at the import at the beginning of this notebook*"
   ]
  },
  {
   "cell_type": "code",
   "execution_count": 53,
   "metadata": {},
   "outputs": [],
   "source": [
    "# Load the Fashion-MNIST dataset\n",
    "(train_images, train_labels), (test_images, test_labels)=fashion_mnist.load_data()"
   ]
  },
  {
   "cell_type": "markdown",
   "metadata": {},
   "source": [
    "**Question 3.2 (3 points)** Explore the data. Find the size of the training and testing dataset. How many categories are in the labels?"
   ]
  },
  {
   "cell_type": "code",
   "execution_count": 54,
   "metadata": {},
   "outputs": [
    {
     "data": {
      "text/plain": [
       "(60000, 28, 28)"
      ]
     },
     "execution_count": 54,
     "metadata": {},
     "output_type": "execute_result"
    }
   ],
   "source": [
    "# Explore the data\n",
    "train_images.shape"
   ]
  },
  {
   "cell_type": "code",
   "execution_count": 55,
   "metadata": {},
   "outputs": [
    {
     "data": {
      "text/plain": [
       "60000"
      ]
     },
     "execution_count": 55,
     "metadata": {},
     "output_type": "execute_result"
    }
   ],
   "source": [
    "len(train_labels)"
   ]
  },
  {
   "cell_type": "code",
   "execution_count": 56,
   "metadata": {},
   "outputs": [
    {
     "data": {
      "text/plain": [
       "(10000, 28, 28)"
      ]
     },
     "execution_count": 56,
     "metadata": {},
     "output_type": "execute_result"
    }
   ],
   "source": [
    "test_images.shape"
   ]
  },
  {
   "cell_type": "code",
   "execution_count": 57,
   "metadata": {},
   "outputs": [
    {
     "data": {
      "text/plain": [
       "10000"
      ]
     },
     "execution_count": 57,
     "metadata": {},
     "output_type": "execute_result"
    }
   ],
   "source": [
    "len(test_images)"
   ]
  },
  {
   "cell_type": "markdown",
   "metadata": {},
   "source": [
    "**Question 3.3 (2 points)** Plot the first couple of images in the training set and their labels. What do you observe?"
   ]
  },
  {
   "cell_type": "code",
   "execution_count": 58,
   "metadata": {},
   "outputs": [
    {
     "data": {
      "text/plain": [
       "3"
      ]
     },
     "execution_count": 58,
     "metadata": {},
     "output_type": "execute_result"
    },
    {
     "data": {
      "image/png": "[encoded data removed]",
      "text/plain": [
       "<Figure size 432x288 with 3 Axes>"
      ]
     },
     "metadata": {
      "needs_background": "light"
     },
     "output_type": "display_data"
    }
   ],
   "source": [
    "# Plot the first couple of images in the training set and their labels.\n",
    "plt.subplot(1,3,1)\n",
    "digit = train_images[1]\n",
    "plt.imshow(digit, cmap=plt.cm.binary)\n",
    "train_labels[1]\n",
    "\n",
    "plt.subplot(1,3,2)\n",
    "digit = train_images[2]\n",
    "plt.imshow(digit, cmap=plt.cm.binary)\n",
    "train_labels[2]\n",
    "\n",
    "plt.subplot(1,3,3)\n",
    "digit = train_images[3]\n",
    "plt.imshow(digit, cmap=plt.cm.binary)\n",
    "train_labels[3]"
   ]
  },
  {
   "cell_type": "markdown",
   "metadata": {},
   "source": [
    "**Question 3.4 (2 points)** Now following the previous example of MNIST, reshape the dataset and categorically encode the labels."
   ]
  },
  {
   "cell_type": "code",
   "execution_count": 59,
   "metadata": {},
   "outputs": [],
   "source": [
    "# Reshaping the datset \n",
    "train_images = train_images.reshape(train_images.shape[0],-1)/255.0\n",
    "test_images = test_images.reshape(test_images.shape[0],-1)/255.0"
   ]
  },
  {
   "cell_type": "code",
   "execution_count": 60,
   "metadata": {},
   "outputs": [],
   "source": [
    "# categorically encoding the labels\n",
    "train_labels = to_categorical(train_labels)\n",
    "test_labels = to_categorical(test_labels)"
   ]
  },
  {
   "cell_type": "markdown",
   "metadata": {},
   "source": [
    "**Question 3.5 (5 points)** Build the network. Use the **same** network architecture and parameters as the MNIST example, and train with 10 epochs. What is the accuracy you see for this dataset? Do you observe overfitting during this training?"
   ]
  },
  {
   "cell_type": "code",
   "execution_count": 61,
   "metadata": {},
   "outputs": [],
   "source": [
    "# building the network\n",
    "network = Sequential()\n",
    "network.add(Dense(10, input_dim=784, activation='relu'))\n",
    "network.add(Dense(10, activation='softmax'))\n",
    "network.compile(optimizer='rmsprop',\n",
    "                loss='categorical_crossentropy',\n",
    "                metrics=['accuracy'])"
   ]
  },
  {
   "cell_type": "code",
   "execution_count": 62,
   "metadata": {},
   "outputs": [
    {
     "name": "stdout",
     "output_type": "stream",
     "text": [
      "Epoch 1/10\n",
      "1688/1688 [==============================] - 2s 1ms/step - loss: 0.7825 - accuracy: 0.7299 - val_loss: 0.5495 - val_accuracy: 0.8137\n",
      "Epoch 2/10\n",
      "1688/1688 [==============================] - 2s 992us/step - loss: 0.5244 - accuracy: 0.8222 - val_loss: 0.5047 - val_accuracy: 0.8285\n",
      "Epoch 3/10\n",
      "1688/1688 [==============================] - 1s 825us/step - loss: 0.4828 - accuracy: 0.8365 - val_loss: 0.4785 - val_accuracy: 0.8383\n",
      "Epoch 4/10\n",
      "1688/1688 [==============================] - 1s 885us/step - loss: 0.4611 - accuracy: 0.8425 - val_loss: 0.4536 - val_accuracy: 0.8458\n",
      "Epoch 5/10\n",
      "1688/1688 [==============================] - 2s 961us/step - loss: 0.4476 - accuracy: 0.8471 - val_loss: 0.4607 - val_accuracy: 0.8420\n",
      "Epoch 6/10\n",
      "1688/1688 [==============================] - 2s 987us/step - loss: 0.4398 - accuracy: 0.8507 - val_loss: 0.4531 - val_accuracy: 0.8482\n",
      "Epoch 7/10\n",
      "1688/1688 [==============================] - 2s 974us/step - loss: 0.4335 - accuracy: 0.8532 - val_loss: 0.4487 - val_accuracy: 0.8508\n",
      "Epoch 8/10\n",
      "1688/1688 [==============================] - 2s 989us/step - loss: 0.4282 - accuracy: 0.8531 - val_loss: 0.4580 - val_accuracy: 0.8490\n",
      "Epoch 9/10\n",
      "1688/1688 [==============================] - 2s 979us/step - loss: 0.4248 - accuracy: 0.8552 - val_loss: 0.4644 - val_accuracy: 0.8443\n",
      "Epoch 10/10\n",
      "1688/1688 [==============================] - 2s 975us/step - loss: 0.4213 - accuracy: 0.8553 - val_loss: 0.4540 - val_accuracy: 0.8518\n"
     ]
    }
   ],
   "source": [
    "# Training with 10 epochs\n",
    "history=network.fit(train_images, train_labels, epochs=10,  validation_split=0.1)"
   ]
  },
  {
   "cell_type": "code",
   "execution_count": 63,
   "metadata": {},
   "outputs": [
    {
     "name": "stdout",
     "output_type": "stream",
     "text": [
      "313/313 [==============================] - 0s 810us/step - loss: 0.4830 - accuracy: 0.8335\n",
      "test_acc: 0.8335000276565552\n"
     ]
    }
   ],
   "source": [
    "test_loss, test_acc = network.evaluate(test_images, test_labels)\n",
    "print('test_acc:', test_acc)"
   ]
  },
  {
   "cell_type": "markdown",
   "metadata": {},
   "source": [
    "<font size=8 color=\"#009600\">&#9998;</font> The accuracy for this dataset is 0.8335. I do observe overfitting during this training you can see that after about epoh 8 the accuracy starts to decrease which is a sign of overfitting."
   ]
  },
  {
   "cell_type": "markdown",
   "metadata": {},
   "source": [
    "You should have got a decent accuracy out of this dataset too, but not as high as the accuracy from the MNIST dataset, because the images here are more complicated. Now to improve the accuracy, you can try to widen/deepend the feedforward neural network. You are encouraged to look at the previous example and search on the internet on how to do that. As long as you see some improvement, it will be fine.\n",
    "\n",
    "**Question 3.6 (5 points)** Try changing the network architecture (deepen/widen the network) to improve the accuracy. What changes did you make? What accuracy did you get this time?"
   ]
  },
  {
   "cell_type": "code",
   "execution_count": 71,
   "metadata": {},
   "outputs": [
    {
     "name": "stdout",
     "output_type": "stream",
     "text": [
      "Epoch 1/30\n",
      "1688/1688 [==============================] - 2s 1ms/step - loss: 0.7047 - accuracy: 0.7563 - val_loss: 0.4946 - val_accuracy: 0.8248\n",
      "Epoch 2/30\n",
      "1688/1688 [==============================] - 2s 1ms/step - loss: 0.4739 - accuracy: 0.8336 - val_loss: 0.4551 - val_accuracy: 0.83850s - l\n",
      "Epoch 3/30\n",
      "1688/1688 [==============================] - 2s 1ms/step - loss: 0.4404 - accuracy: 0.8448 - val_loss: 0.4837 - val_accuracy: 0.8328\n",
      "Epoch 4/30\n",
      "1688/1688 [==============================] - 2s 1ms/step - loss: 0.4220 - accuracy: 0.8529 - val_loss: 0.5114 - val_accuracy: 0.8190\n",
      "Epoch 5/30\n",
      "1688/1688 [==============================] - 2s 1ms/step - loss: 0.4112 - accuracy: 0.8560 - val_loss: 0.4214 - val_accuracy: 0.8548\n",
      "Epoch 6/30\n",
      "1688/1688 [==============================] - 2s 1ms/step - loss: 0.4046 - accuracy: 0.8569 - val_loss: 0.4552 - val_accuracy: 0.8403\n",
      "Epoch 7/30\n",
      "1688/1688 [==============================] - 2s 1ms/step - loss: 0.3982 - accuracy: 0.8609 - val_loss: 0.4125 - val_accuracy: 0.8590\n",
      "Epoch 8/30\n",
      "1688/1688 [==============================] - 2s 1ms/step - loss: 0.3943 - accuracy: 0.8619 - val_loss: 0.4508 - val_accuracy: 0.8427\n",
      "Epoch 9/30\n",
      "1688/1688 [==============================] - 2s 1ms/step - loss: 0.3902 - accuracy: 0.8648 - val_loss: 0.4313 - val_accuracy: 0.8548\n",
      "Epoch 10/30\n",
      "1688/1688 [==============================] - 2s 1ms/step - loss: 0.3871 - accuracy: 0.8656 - val_loss: 0.4222 - val_accuracy: 0.8563\n",
      "Epoch 11/30\n",
      "1688/1688 [==============================] - 2s 1ms/step - loss: 0.3862 - accuracy: 0.8656 - val_loss: 0.4530 - val_accuracy: 0.8485 l\n",
      "Epoch 12/30\n",
      "1688/1688 [==============================] - 2s 1ms/step - loss: 0.3829 - accuracy: 0.8664 - val_loss: 0.4165 - val_accuracy: 0.8582 loss: 0.3757 - accu - ETA: 0s - loss: 0.3808 - accuracy: 0. - ETA: 0s - loss: 0.3815 - accuracy: 0.86 - ETA: 0s - loss: 0.380\n",
      "Epoch 13/30\n",
      "1688/1688 [==============================] - 2s 1ms/step - loss: 0.3806 - accuracy: 0.8688 - val_loss: 0.4367 - val_accuracy: 0.8543\n",
      "Epoch 14/30\n",
      "1688/1688 [==============================] - 2s 1ms/step - loss: 0.3794 - accuracy: 0.8687 - val_loss: 0.4592 - val_accuracy: 0.8525\n",
      "Epoch 15/30\n",
      "1688/1688 [==============================] - 2s 1ms/step - loss: 0.3780 - accuracy: 0.8695 - val_loss: 0.4212 - val_accuracy: 0.8578cy:  - ETA: 0s - l\n",
      "Epoch 16/30\n",
      "1688/1688 [==============================] - 2s 1ms/step - loss: 0.3752 - accuracy: 0.8699 - val_loss: 0.4708 - val_accuracy: 0.8467\n",
      "Epoch 17/30\n",
      "1688/1688 [==============================] - 2s 1ms/step - loss: 0.3745 - accuracy: 0.8697 - val_loss: 0.4360 - val_accuracy: 0.8562\n",
      "Epoch 18/30\n",
      "1688/1688 [==============================] - 2s 1ms/step - loss: 0.3728 - accuracy: 0.8715 - val_loss: 0.4392 - val_accuracy: 0.8520\n",
      "Epoch 19/30\n",
      "1688/1688 [==============================] - 2s 1ms/step - loss: 0.3722 - accuracy: 0.8721 - val_loss: 0.4405 - val_accuracy: 0.8570\n",
      "Epoch 20/30\n",
      "1688/1688 [==============================] - 2s 1ms/step - loss: 0.3699 - accuracy: 0.8719 - val_loss: 0.4686 - val_accuracy: 0.8508\n",
      "Epoch 21/30\n",
      "1688/1688 [==============================] - 2s 1ms/step - loss: 0.3697 - accuracy: 0.8719 - val_loss: 0.4287 - val_accuracy: 0.8600\n",
      "Epoch 22/30\n",
      "1688/1688 [==============================] - 2s 1ms/step - loss: 0.3686 - accuracy: 0.8724 - val_loss: 0.4530 - val_accuracy: 0.8565\n",
      "Epoch 23/30\n",
      "1688/1688 [==============================] - 2s 1ms/step - loss: 0.3682 - accuracy: 0.8731 - val_loss: 0.4474 - val_accuracy: 0.8585\n",
      "Epoch 24/30\n",
      "1688/1688 [==============================] - 2s 1ms/step - loss: 0.3672 - accuracy: 0.8739 - val_loss: 0.4304 - val_accuracy: 0.8593\n",
      "Epoch 25/30\n",
      "1688/1688 [==============================] - 2s 1ms/step - loss: 0.3669 - accuracy: 0.8738 - val_loss: 0.4356 - val_accuracy: 0.8620\n",
      "Epoch 26/30\n",
      "1688/1688 [==============================] - 2s 1ms/step - loss: 0.3647 - accuracy: 0.8733 - val_loss: 0.4488 - val_accuracy: 0.8563\n",
      "Epoch 27/30\n",
      "1688/1688 [==============================] - 2s 934us/step - loss: 0.3649 - accuracy: 0.8746 - val_loss: 0.4598 - val_accuracy: 0.8497\n",
      "Epoch 28/30\n",
      "1688/1688 [==============================] - 2s 1ms/step - loss: 0.3644 - accuracy: 0.8754 - val_loss: 0.4559 - val_accuracy: 0.8573\n",
      "Epoch 29/30\n",
      "1688/1688 [==============================] - 2s 1ms/step - loss: 0.3643 - accuracy: 0.8746 - val_loss: 0.4379 - val_accuracy: 0.8608oss: 0.3644 - accuracy: \n",
      "Epoch 30/30\n",
      "1688/1688 [==============================] - 2s 1ms/step - loss: 0.3630 - accuracy: 0.8753 - val_loss: 0.4463 - val_accuracy: 0.8603\n"
     ]
    }
   ],
   "source": [
    "# Trying to change the network architecture\n",
    "network = Sequential()\n",
    "network.add(Dense(10, input_dim=784, activation='relu'))\n",
    "network.add(Dense(10, activation='softmax'))\n",
    "network.compile(optimizer='rmsprop',\n",
    "                loss='categorical_crossentropy',\n",
    "                metrics=['accuracy'])\n",
    "\n",
    "history=network.fit(train_images, train_labels, epochs=30,  validation_split=0.1)"
   ]
  },
  {
   "cell_type": "code",
   "execution_count": 72,
   "metadata": {},
   "outputs": [
    {
     "name": "stdout",
     "output_type": "stream",
     "text": [
      "313/313 [==============================] - 0s 833us/step - loss: 0.4623 - accuracy: 0.8484\n",
      "test_acc: 0.8483999967575073\n"
     ]
    }
   ],
   "source": [
    "test_loss, test_acc = network.evaluate(test_images, test_labels)\n",
    "print('test_acc:', test_acc)"
   ]
  },
  {
   "cell_type": "markdown",
   "metadata": {},
   "source": [
    "This time I changes the Epoch to be 30 which expands the .fit network created. The accuracy this time was increased to 0.848."
   ]
  },
  {
   "cell_type": "markdown",
   "metadata": {},
   "source": [
    "Congratulations! You have learned about the basics of the Tensorflow package, which is a powerful tool for machine learning. There are tons of on-line resources about Tensorflow. You are encouraged to check them out when you have time."
   ]
  },
  {
   "cell_type": "markdown",
   "metadata": {},
   "source": [
    "---\n",
    "### Assignment wrap-up\n",
    "\n",
    "Please fill out the form that appears when you run the code below.  **You must completely fill this out in order to receive credit for the assignment!**"
   ]
  },
  {
   "cell_type": "code",
   "execution_count": 73,
   "metadata": {},
   "outputs": [
    {
     "data": {
      "text/html": [
       "\n",
       "<iframe \n",
       "\tsrc=\"https://docs.google.com/forms/d/e/1FAIpQLSf_RV7__hgMU1AEQXzWmKFZPMu_BmOppmTNA-rPkh3hQ40czA/viewform?usp=sf_link\" \n",
       "\twidth=\"800px\" \n",
       "\theight=\"600px\" \n",
       "\tframeborder=\"0\" \n",
       "\tmarginheight=\"0\" \n",
       "\tmarginwidth=\"0\">\n",
       "\tLoading...\n",
       "</iframe>\n"
      ],
      "text/plain": [
       "<IPython.core.display.HTML object>"
      ]
     },
     "execution_count": 73,
     "metadata": {},
     "output_type": "execute_result"
    }
   ],
   "source": [
    "from IPython.display import HTML\n",
    "HTML(\n",
    "\"\"\"\n",
    "<iframe \n",
    "\tsrc=\"https://docs.google.com/forms/d/e/1FAIpQLSf_RV7__hgMU1AEQXzWmKFZPMu_BmOppmTNA-rPkh3hQ40czA/viewform?usp=sf_link\" \n",
    "\twidth=\"800px\" \n",
    "\theight=\"600px\" \n",
    "\tframeborder=\"0\" \n",
    "\tmarginheight=\"0\" \n",
    "\tmarginwidth=\"0\">\n",
    "\tLoading...\n",
    "</iframe>\n",
    "\"\"\"\n",
    ")"
   ]
  },
  {
   "cell_type": "markdown",
   "metadata": {},
   "source": [
    "### Congratulations, you're done!\n",
    "\n",
    "Submit this assignment by uploading it to the course Desire2Learn web page.  Go to the \"Homework Assignments\" folder, find the dropbox link for Homework #5, and upload your notebook **and the script you wrote**."
   ]
  },
  {
   "cell_type": "code",
   "execution_count": null,
   "metadata": {},
   "outputs": [],
   "source": []
  }
 ],
 "metadata": {
  "kernelspec": {
   "display_name": "Python 3",
   "language": "python",
   "name": "python3"
  },
  "language_info": {
   "codemirror_mode": {
    "name": "ipython",
    "version": 3
   },
   "file_extension": ".py",
   "mimetype": "text/x-python",
   "name": "python",
   "nbconvert_exporter": "python",
   "pygments_lexer": "ipython3",
   "version": "3.7.4"
  }
 },
 "nbformat": 4,
 "nbformat_minor": 2
}
